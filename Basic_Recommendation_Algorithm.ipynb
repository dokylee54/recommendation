{
 "cells": [
  {
   "cell_type": "markdown",
   "metadata": {},
   "source": [
    "# < Basic Recommendation Algorithm >"
   ]
  },
  {
   "cell_type": "markdown",
   "metadata": {},
   "source": [
    "---"
   ]
  },
  {
   "cell_type": "code",
   "execution_count": 3,
   "metadata": {},
   "outputs": [],
   "source": [
    "import matplotlib.pyplot as plt\n",
    "from matplotlib.image import imread"
   ]
  },
  {
   "cell_type": "code",
   "execution_count": 17,
   "metadata": {},
   "outputs": [],
   "source": [
    "def show_img(path):\n",
    "    img = imread(path)\n",
    "\n",
    "    plt.imshow(img)\n",
    "    plt.axis('off')  ## grid 없애기\n",
    "    plt.show()"
   ]
  },
  {
   "cell_type": "markdown",
   "metadata": {},
   "source": [
    "## 1. Popularity, High Rated Based"
   ]
  },
  {
   "cell_type": "markdown",
   "metadata": {},
   "source": [
    "* 가장 단순함 => 평점이 높은 것을 추천\n",
    "* 모두에게 같은 item 추천"
   ]
  },
  {
   "cell_type": "code",
   "execution_count": 4,
   "metadata": {},
   "outputs": [],
   "source": [
    "ratings = {\n",
    "     'doky':{'Anne_with_an_E':5,'Strange_Things':3,'The_Escape':3},\n",
    "     'steve':{'Anne_with_an_E':5,'Strange_Things':1,'The_Escape':4},\n",
    "     'jamie':{'Anne_with_an_E':0,'Strange_Things':4,'The_Escape':5},\n",
    "     'bobby':{'Anne_with_an_E':2,'Strange_Things':1,'The_Escape':5}\n",
    "}"
   ]
  },
  {
   "cell_type": "code",
   "execution_count": 5,
   "metadata": {},
   "outputs": [
    {
     "data": {
      "text/plain": [
       "[('The_Escape', 4.25), ('Anne_with_an_E', 3.0), ('Strange_Things', 2.25)]"
      ]
     },
     "execution_count": 5,
     "metadata": {},
     "output_type": "execute_result"
    }
   ],
   "source": [
    "recmd_movielist = dict()\n",
    "\n",
    "# (A)\n",
    "for name in ratings:\n",
    "    for title in ratings[name]:\n",
    "        score = ratings[name][title]\n",
    "        \n",
    "        if title not in recmd_movielist:\n",
    "            recmd_movielist[title] = score\n",
    "        else:\n",
    "            recmd_movielist[title] += score\n",
    "\n",
    "#\n",
    "\n",
    "\n",
    "\n",
    "# (B)\n",
    "for recmd_movietitle in recmd_movielist:\n",
    "    recmd_movielist[recmd_movietitle] /= 4\n",
    "#\n",
    "\n",
    "\n",
    "\n",
    "# (C)\n",
    "from operator import itemgetter\n",
    "recmd_movielist = sorted(recmd_movielist.items(), reverse=True, key=itemgetter(1))\n",
    "#\n",
    "\n",
    "recmd_movielist"
   ]
  },
  {
   "cell_type": "markdown",
   "metadata": {},
   "source": [
    "> 네 사람이 같은 영화에 준 평점들을 각각 더한 다음`(A)`<br>4로 나눠서 각 영화가 받은 평점의 평균을 낸다`(B)`<br>그 평균으로 내림차순 정렬해서 추천 리스트를 만든다`(C)`"
   ]
  },
  {
   "cell_type": "markdown",
   "metadata": {},
   "source": [
    "---"
   ]
  },
  {
   "cell_type": "markdown",
   "metadata": {},
   "source": [
    "## 2. Collaborative Filtering"
   ]
  },
  {
   "cell_type": "markdown",
   "metadata": {},
   "source": [
    "* 사용자가 입력한 선호도(평점)를 사용하여 사용자-항목 선호도(평점) 행렬 계산\n",
    "* 그 행렬을 사용하여 사용자들 간의 유사도를 계산\n",
    "* 사용자들 간의 유사도를 바탕으로 모든 항목에 대해 예측 값을 계산하고, 높은 예측 값을 갖는 상위 N개의 추천 목록을 생성"
   ]
  },
  {
   "cell_type": "code",
   "execution_count": 6,
   "metadata": {},
   "outputs": [],
   "source": [
    "ratings = {\n",
    "     'doky':{'Anne_with_an_E':5,'Strange_Things':3,'The_Escape':3},\n",
    "     'steve':{'Anne_with_an_E':5,'Strange_Things':1,'The_Escape':4},\n",
    "     'jamie':{'Strange_Things':4,'The_Escape':5},\n",
    "     'bobby':{'Anne_with_an_E':2,'Strange_Things':1,'The_Escape':5}\n",
    "}"
   ]
  },
  {
   "cell_type": "code",
   "execution_count": 7,
   "metadata": {},
   "outputs": [],
   "source": [
    "import math\n",
    "\n",
    "def sim_w_dist(i, j):\n",
    "    return math.sqrt(pow(i,2) + pow(j,2))"
   ]
  },
  {
   "cell_type": "markdown",
   "metadata": {},
   "source": [
    "> 피타고라스 공식을 통한 거리 계산으로 유사도 측정"
   ]
  },
  {
   "cell_type": "code",
   "execution_count": 8,
   "metadata": {},
   "outputs": [
    {
     "name": "stdout",
     "output_type": "stream",
     "text": [
      "0.0 , 7.0710678118654755\n"
     ]
    }
   ],
   "source": [
    "max_sim_w_dist = sim_w_dist(5, 5)\n",
    "min_sim_w_dist = sim_w_dist(0, 0)\n",
    "print(min_sim_w_dist, ',', max_sim_w_dist)"
   ]
  },
  {
   "cell_type": "markdown",
   "metadata": {},
   "source": [
    "> sim_w_dist로 구한 sim의<br>\n",
    "최대값=루트50, 최소값=0"
   ]
  },
  {
   "cell_type": "code",
   "execution_count": 9,
   "metadata": {},
   "outputs": [
    {
     "name": "stdout",
     "output_type": "stream",
     "text": [
      "similarity with doky : 2.23606797749979 -> 0.31622776601683794\n",
      "similarity with steve : 3.1622776601683795 -> 0.4472135954999579\n",
      "similarity with bobby : 3.0 -> 0.4242640687119285\n"
     ]
    }
   ],
   "source": [
    "for name in ratings:\n",
    "    if name != 'jamie':\n",
    "        v1 = ratings['jamie']['Strange_Things'] - ratings[name]['Strange_Things']\n",
    "        v2 = ratings['jamie']['The_Escape'] - ratings[name]['The_Escape']\n",
    "        sim = sim_w_dist(v1, v2)\n",
    "        norm_sim = (sim-min_sim_w_dist)/(max_sim_w_dist-min_sim_w_dist)\n",
    "        print('similarity with', name, ':', sim, '->', norm_sim)"
   ]
  },
  {
   "cell_type": "markdown",
   "metadata": {},
   "source": [
    "> jamie가 평가한 Strange_Things, The_Escape를 모두 평가한 사용자와의 유사도 구하기<btr>\n",
    "* sim_w_dist 함수 사용\n",
    "* sim을 0과 1 사이로 정규화한 norm_sim 계산 => 1에 가까운 값일수록 유사도 높음"
   ]
  },
  {
   "cell_type": "markdown",
   "metadata": {},
   "source": [
    "---"
   ]
  },
  {
   "cell_type": "markdown",
   "metadata": {},
   "source": [
    "## 3. Similarity 계산 방식"
   ]
  },
  {
   "cell_type": "markdown",
   "metadata": {},
   "source": [
    "1) 평균제곱차이 유사도 (Mean Squared Difference Similarity)"
   ]
  },
  {
   "cell_type": "markdown",
   "metadata": {},
   "source": [
    "> User-based Collaborative Filter\n",
    "![image](formula/3_of_similarity/msdSim_userCF.png)\n",
    "    - Iuv는 사용자 u와 사용자 v 모두에 의해 평가된 상품의 집합\n",
    "    - |Iuv|는 사용자 u와 사용자 v 모두에 의해 평가된 상품의 수\n",
    "    - 동일한 조건은 item값\n",
    "\n",
    "<br>\n",
    "\n",
    "> Item-based Collaborative Filter\n",
    "![image](formula/3_of_similarity/msdSim_itemCF.png)\n",
    "    - Uij는 상품 i와 상품 j 모두를 평가한 사용자의 집합이고 |Uij|는 상품 i와 상품 j 모두를 평가한 사용자의 수\n",
    "    - 동일한 조건은 user값\n",
    "    \n",
    "<br>\n",
    "\n",
    "> Mean Squared Difference Similarity\n",
    "![image](formula/3_of_similarity/msdSim_sim.png)\n",
    "    - Mean Squared Difference(msd)의 역수 -> msd가 클 수록 Similarity 값은 작아짐\n",
    "    - MSD가 0이 되는 경우를 대응하기 위해 분모에 1을 무조건 더함"
   ]
  },
  {
   "cell_type": "markdown",
   "metadata": {},
   "source": [
    "> 구현"
   ]
  },
  {
   "cell_type": "code",
   "execution_count": 94,
   "metadata": {},
   "outputs": [],
   "source": [
    "def sim_msd(data, name1, name2):\n",
    "    \n",
    "    diff = 0\n",
    "    count = 0\n",
    "    \n",
    "    for title in data[name1]:\n",
    "        \n",
    "        if title in data[name2]:\n",
    "            ##print('commonly watched movie ->', title)\n",
    "            diff += pow(data[name1][title] - data[name2][title], 2)\n",
    "            count += 1\n",
    "            \n",
    "    sim_msd = 1/( 1 + (diff/count) )\n",
    "    \n",
    "    ##print('** msd similariy = ', sim_msd)\n",
    "    \n",
    "    return sim_msd"
   ]
  },
  {
   "cell_type": "code",
   "execution_count": 86,
   "metadata": {},
   "outputs": [],
   "source": [
    "ratings = {\n",
    "     'doky':{'Anne_with_an_E':5,'Strange_Things':3,'The_Escape':3},\n",
    "     'steve':{'Anne_with_an_E':5,'Strange_Things':1,'The_Escape':4},\n",
    "     'jamie':{'Anne_with_an_E':0,'Strange_Things':4,'The_Escape':5},\n",
    "     'bobby':{'Anne_with_an_E':2,'Strange_Things':1,'The_Escape':5},\n",
    "     'cookie':{'Anne_with_an_E':2,'Strange_Things':1}\n",
    "}"
   ]
  },
  {
   "cell_type": "code",
   "execution_count": 87,
   "metadata": {},
   "outputs": [
    {
     "name": "stdout",
     "output_type": "stream",
     "text": [
      "commonly watched movie -> Anne_with_an_E\n",
      "commonly watched movie -> Strange_Things\n"
     ]
    },
    {
     "data": {
      "text/plain": [
       "0.13333333333333333"
      ]
     },
     "execution_count": 87,
     "metadata": {},
     "output_type": "execute_result"
    }
   ],
   "source": [
    "sim_msd(ratings, 'doky', 'cookie')"
   ]
  },
  {
   "cell_type": "markdown",
   "metadata": {},
   "source": [
    "2) 코사인 유사도 (Cosine Similarity)"
   ]
  },
  {
   "cell_type": "markdown",
   "metadata": {},
   "source": [
    "> 값의 범위 : -1 ~ 1\n",
    "![image](formula/3_of_similarity/cos.png)\n",
    "ㄴ> 위의 공식 이용하여 도출\n",
    "\n",
    "<br>\n",
    "\n",
    "> 사용자 u와 사용자 v간의 Cosine Similarity\n",
    "![image](formula/3_of_similarity/cosSim_user.png)\n",
    "    - 두 사용자가 모두 평가한 상품의 평점을 사용해서 계산\n",
    "    - 분모는 내적값을 구하는 것과 같음\n",
    "    - 분자는 벡터의 크기를 구하는 것과 같음\n",
    "\n",
    "<br>\n",
    "\n",
    "> 상품 i와 상품 j간의 Cosine Similarity\n",
    "![image](formula/3_of_similarity/cosSim_item.png)\n",
    "    - 두 상품의 평점을 사용해서 계산\n",
    "    - 분모는 내적값을 구하는 것과 같음\n",
    "    - 분자는 벡터의 크기를 구하는 것과 같음\n",
    "    \n",
    "<br>\n",
    "\n",
    "> 구현"
   ]
  },
  {
   "cell_type": "code",
   "execution_count": 88,
   "metadata": {},
   "outputs": [],
   "source": [
    "import math\n",
    "def sim_cosine(data, name1, name2):\n",
    "    vsize_name1 = 0\n",
    "    vsize_name2 = 0\n",
    "    product_sum = 0\n",
    "    \n",
    "    for title in data[name1]:\n",
    "        if title in data[name2]:\n",
    "            vsize_name1 += pow(data[name1][title], 2)\n",
    "            vsize_name2 += pow(data[name2][title], 2)\n",
    "            \n",
    "            product_sum += data[name1][title]*data[name2][title]\n",
    "            \n",
    "    sim_cosine = product_sum/(math.sqrt(vsize_name1)*math.sqrt(vsize_name2))\n",
    "    \n",
    "    ##print(sim_cosine)\n",
    "    \n",
    "    return sim_cosine"
   ]
  },
  {
   "cell_type": "code",
   "execution_count": 89,
   "metadata": {},
   "outputs": [
    {
     "data": {
      "text/plain": [
       "0.9970544855015815"
      ]
     },
     "execution_count": 89,
     "metadata": {},
     "output_type": "execute_result"
    }
   ],
   "source": [
    "sim_cosine(ratings, 'doky', 'cookie')"
   ]
  },
  {
   "cell_type": "markdown",
   "metadata": {},
   "source": [
    "3) 피어슨 유사도 (Pearson Similarity)"
   ]
  },
  {
   "cell_type": "markdown",
   "metadata": {},
   "source": [
    "> 값의 범위 -1 ~ 1<br>\n",
    "특정인물의 점수기준이 극단적으로 너무 낮거나 높을 경우 유사도에 영향을 크게 주기 때문에, 이를 막기 위해 상관계수 사용\n",
    "\n",
    "<br>\n",
    "\n",
    "> 사용자 u와 사용자 v간의 Pearson Similarity\n",
    "![image](formula/3_of_similarity/pearsonSim_user.png)\n",
    "    - μu는 사용자 u의 평균 평점\n",
    "\n",
    "<br>\n",
    "\n",
    "> 상품 i와 상품 j간의 Pearson Similarity\n",
    "![image](formula/3_of_similarity/pearsonSim_item.png)\n",
    "    - μi는 상품 i의 평균 평점\n",
    "    \n",
    "<br>\n",
    "\n",
    "> 구현"
   ]
  },
  {
   "cell_type": "code",
   "execution_count": 90,
   "metadata": {},
   "outputs": [],
   "source": [
    "def sim_pearson(data, name1, name2):\n",
    "    sum_name1 = 0\n",
    "    sum_name2 = 0\n",
    "    count = 0\n",
    "    \n",
    "    for title in data[name1]:\n",
    "        if title in data[name2]:\n",
    "            sum_name1 += data[name1][title]\n",
    "            sum_name2 += data[name2][title]\n",
    "            count += 1\n",
    "            \n",
    "    avg_name1 = sum_name1/count\n",
    "    avg_name2 = sum_name2/count\n",
    "    \n",
    "    vsize_name1 = vsize_name2 = product_sum = 0\n",
    "    \n",
    "    for title in data[name1]:\n",
    "        if title in data[name2]:\n",
    "            vsize_name1 += pow(data[name1][title]-avg_name1, 2)\n",
    "            vsize_name2 += pow(data[name2][title]-avg_name2, 2)\n",
    "            product_sum += (data[name1][title]-avg_name1)*(data[name2][title]-avg_name2)\n",
    "            \n",
    "    sim_pearson = product_sum / (math.sqrt(vsize_name1)*math.sqrt(vsize_name2))\n",
    "    ## print(sim_pearson)\n",
    "    return sim_pearson"
   ]
  },
  {
   "cell_type": "code",
   "execution_count": 91,
   "metadata": {},
   "outputs": [
    {
     "data": {
      "text/plain": [
       "0.9999999999999998"
      ]
     },
     "execution_count": 91,
     "metadata": {},
     "output_type": "execute_result"
    }
   ],
   "source": [
    "sim_pearson(ratings, 'doky', 'cookie')"
   ]
  },
  {
   "cell_type": "markdown",
   "metadata": {},
   "source": [
    "---\n",
    "## 상위 N개 추천"
   ]
  },
  {
   "cell_type": "markdown",
   "metadata": {},
   "source": [
    "> 구현"
   ]
  },
  {
   "cell_type": "code",
   "execution_count": 103,
   "metadata": {},
   "outputs": [],
   "source": [
    "def top_match(data, name, n=3, sim_function=sim_pearson):\n",
    "    top_list = []\n",
    "    for user in data:\n",
    "        if user != name:\n",
    "            top_list.append((sim_function(data, name, user), user))  # ({유사도}, {사람})\n",
    "    top_list.sort(reverse=True)\n",
    "    \n",
    "    topN_list = top_list[:n]\n",
    "    \n",
    "    for idx, user in enumerate(topN_list):\n",
    "        print(idx+1, '등 : ', user)\n",
    "    \n",
    "    return topN_list"
   ]
  },
  {
   "cell_type": "code",
   "execution_count": 101,
   "metadata": {},
   "outputs": [
    {
     "name": "stdout",
     "output_type": "stream",
     "text": [
      "<msd>\n",
      "1 등 :  (0.37499999999999994, 'steve')\n",
      "2 등 :  (0.15, 'bobby')\n",
      "3 등 :  (0.13333333333333333, 'cookie')\n",
      "--------------------------------------------------\n",
      "<cosine>\n",
      "1 등 :  (0.9970544855015815, 'cookie')\n",
      "2 등 :  (0.9412416106700233, 'steve')\n",
      "3 등 :  (0.7795844649455863, 'bobby')\n",
      "--------------------------------------------------\n",
      "<pearson>\n",
      "1 등 :  (0.9999999999999998, 'cookie')\n",
      "2 등 :  (0.6933752452815364, 'steve')\n",
      "3 등 :  (-0.2773500981126146, 'bobby')\n"
     ]
    },
    {
     "data": {
      "text/plain": [
       "[(0.9999999999999998, 'cookie'),\n",
       " (0.6933752452815364, 'steve'),\n",
       " (-0.2773500981126146, 'bobby')]"
      ]
     },
     "execution_count": 101,
     "metadata": {},
     "output_type": "execute_result"
    }
   ],
   "source": [
    "print('<msd>')\n",
    "top_match(ratings, 'doky', 3, sim_msd)\n",
    "print('-'*50)\n",
    "print('<cosine>')\n",
    "top_match(ratings, 'doky', 3, sim_cosine)\n",
    "print('-'*50)\n",
    "print('<pearson>')\n",
    "top_match(ratings, 'doky', 3, sim_pearson)"
   ]
  },
  {
   "cell_type": "markdown",
   "metadata": {},
   "source": [
    "---\n",
    "## 유사도와 KNN을 활용한 예측 값 계산 및 추천 목록 생성 기법\n",
    "* 사용자들 간의 유사도를 이용하여 모든 아이템에 대한 예측 평점을 계산하고, 높은 값을 갖는 상위 N개의 추천 목록 생성\n",
    "\n",
    "<br>\n",
    "\n",
    "* K Nearest Neighbors(KNN) 가중치 예측 기법\n",
    "    * 사용자(또는 아이템)와 유사도가 큰 k개의 사용자(또는 아이템) 벡터를 사용해 가중 평균을 구해서 가중치를 예측"
   ]
  },
  {
   "cell_type": "markdown",
   "metadata": {},
   "source": [
    "> KNN Basic\n",
    "![image](formula/KNN/KNN_Basic.png)\n",
    "* 평점들을 단순히 가중 평균\n",
    "* Nk는 유사도가 큰 벡터 상위 k개의 집합"
   ]
  },
  {
   "cell_type": "markdown",
   "metadata": {},
   "source": [
    "> 구현"
   ]
  },
  {
   "cell_type": "code",
   "execution_count": 102,
   "metadata": {},
   "outputs": [],
   "source": [
    "ratings_expand = {\n",
    "    '마동석': {\n",
    "        '택시운전사': 3.5,\n",
    "        '남한산성': 1.5,\n",
    "        '킹스맨:골든서클': 3.0,\n",
    "        '범죄도시': 3.5,\n",
    "        '아이 캔 스피크': 2.5,\n",
    "        '꾼': 3.0,\n",
    "    },\n",
    "    '이정재': {\n",
    "        '택시운전사': 5.0,\n",
    "        '남한산성': 4.5,\n",
    "        '킹스맨:골든서클': 0.5,\n",
    "        '범죄도시': 1.5,\n",
    "        '아이 캔 스피크': 4.5,\n",
    "        '꾼': 5.0,\n",
    "    },\n",
    "    '윤계상': {\n",
    "        '택시운전사': 3.0,\n",
    "        '남한산성': 2.5,\n",
    "        '킹스맨:골든서클': 1.5,\n",
    "        '범죄도시': 3.0,\n",
    "        '꾼': 3.0,\n",
    "        '아이 캔 스피크': 3.5,\n",
    "    },\n",
    "    '설경구': {\n",
    "        '택시운전사': 2.5,\n",
    "        '남한산성': 3.0,\n",
    "        '범죄도시': 4.5,\n",
    "        '꾼': 4.0,\n",
    "    },\n",
    "    '최홍만': {\n",
    "        '남한산성': 4.5,\n",
    "        '킹스맨:골든서클': 3.0,\n",
    "        '꾼': 4.5,\n",
    "        '범죄도시': 3.0,\n",
    "        '아이 캔 스피크': 2.5,\n",
    "    },\n",
    "    '홍수환': {\n",
    "        '택시운전사': 3.0,\n",
    "        '남한산성': 4.0,\n",
    "        '킹스맨:골든서클': 1.0,\n",
    "        '범죄도시': 3.0,\n",
    "        '꾼': 3.5,\n",
    "        '아이 캔 스피크': 2.0,\n",
    "    },\n",
    "    '나원탁': {\n",
    "        '택시운전사': 3.0,\n",
    "        '남한산성': 4.0,\n",
    "        '꾼': 3.0,\n",
    "        '범죄도시': 5.0,\n",
    "        '아이 캔 스피크': 3.5,\n",
    "    },\n",
    "    '소이현': {\n",
    "        '남한산성': 4.5, \n",
    "        '아이 캔 스피크': 1.0,\n",
    "        '범죄도시': 4.0\n",
    "    }\n",
    "}"
   ]
  },
  {
   "cell_type": "code",
   "execution_count": 169,
   "metadata": {},
   "outputs": [],
   "source": [
    "def get_KNN_recommend(data, name, n=3, sim_function=sim_pearson):\n",
    "    \n",
    "    result = top_match(data, name, n, sim_function)\n",
    "    \n",
    "    score_dic = dict()\n",
    "    sim_dic = dict()\n",
    "    li = []\n",
    "    \n",
    "    for sim, user in result:\n",
    "        print(sim, user)\n",
    "        if sim<0: continue\n",
    "        for title in data[user]:\n",
    "            if title not in data[name]:\n",
    "                score = sim * data[user][title]\n",
    "                score_dic.setdefault(title, 0)\n",
    "                score_dic[title] += score\n",
    "                \n",
    "                sim_dic.setdefault(title, 0)\n",
    "                sim_dic[title] += sim\n",
    "                \n",
    "    for title in score_dic:\n",
    "        score_dic[title] /= sim_dic[title]\n",
    "        li.append((score_dic[title], title)) # (예측평점, 영화제목)\n",
    "        \n",
    "    li.sort(reverse=True)\n",
    "    \n",
    "    print('\\n** Recommendation')\n",
    "    for rating, score in enumerate(li):\n",
    "        print(rating+1, '등: ', score[1], ', ', score[0], '점')\n",
    "    \n",
    "    return li"
   ]
  },
  {
   "cell_type": "code",
   "execution_count": 170,
   "metadata": {},
   "outputs": [
    {
     "name": "stdout",
     "output_type": "stream",
     "text": [
      "1 등 :  (0.924473451641905, '홍수환')\n",
      "2 등 :  (0.7824666287099552, '최홍만')\n",
      "3 등 :  (0.6628489803598702, '나원탁')\n",
      "0.924473451641905 홍수환\n",
      "0.7824666287099552 최홍만\n",
      "0.6628489803598702 나원탁\n",
      "\n",
      "** Recommendation\n",
      "1 등:  꾼 ,  3.6903300787431923 점\n",
      "2 등:  택시운전사 ,  3.0 점\n",
      "3 등:  킹스맨:골든서클 ,  1.9168062051113846 점\n"
     ]
    },
    {
     "data": {
      "text/plain": [
       "[(3.6903300787431923, '꾼'), (3.0, '택시운전사'), (1.9168062051113846, '킹스맨:골든서클')]"
      ]
     },
     "execution_count": 170,
     "metadata": {},
     "output_type": "execute_result"
    }
   ],
   "source": [
    "get_KNN_recommend(ratings_expand, '소이현')"
   ]
  },
  {
   "cell_type": "markdown",
   "metadata": {},
   "source": [
    "> KNN with Means\n",
    "![image](formula/KNN/KNN_means.png)\n",
    "* 평점들을 평균값 기준으로 가중 평균\n",
    "\n",
    "<br>\n",
    "\n",
    "> 구현"
   ]
  },
  {
   "cell_type": "code",
   "execution_count": 172,
   "metadata": {
    "scrolled": true
   },
   "outputs": [
    {
     "data": {
      "text/plain": [
       "{'마동석': {'택시운전사': 3.5,\n",
       "  '남한산성': 1.5,\n",
       "  '킹스맨:골든서클': 3.0,\n",
       "  '범죄도시': 3.5,\n",
       "  '아이 캔 스피크': 2.5,\n",
       "  '꾼': 3.0,\n",
       "  'avg': 2.8333333333333335},\n",
       " '이정재': {'택시운전사': 5.0,\n",
       "  '남한산성': 4.5,\n",
       "  '킹스맨:골든서클': 0.5,\n",
       "  '범죄도시': 1.5,\n",
       "  '아이 캔 스피크': 4.5,\n",
       "  '꾼': 5.0,\n",
       "  'avg': 3.1666666666666665},\n",
       " '윤계상': {'택시운전사': 3.0,\n",
       "  '남한산성': 2.5,\n",
       "  '킹스맨:골든서클': 1.5,\n",
       "  '범죄도시': 3.0,\n",
       "  '꾼': 3.0,\n",
       "  '아이 캔 스피크': 3.5,\n",
       "  'avg': 3.0277777777777777},\n",
       " '설경구': {'택시운전사': 2.5,\n",
       "  '남한산성': 3.0,\n",
       "  '범죄도시': 4.5,\n",
       "  '꾼': 4.0,\n",
       "  'avg': 3.1136363636363638},\n",
       " '최홍만': {'남한산성': 4.5,\n",
       "  '킹스맨:골든서클': 3.0,\n",
       "  '꾼': 4.5,\n",
       "  '범죄도시': 3.0,\n",
       "  '아이 캔 스피크': 2.5,\n",
       "  'avg': 3.185185185185185},\n",
       " '홍수환': {'택시운전사': 3.0,\n",
       "  '남한산성': 4.0,\n",
       "  '킹스맨:골든서클': 1.0,\n",
       "  '범죄도시': 3.0,\n",
       "  '꾼': 3.5,\n",
       "  '아이 캔 스피크': 2.0,\n",
       "  'avg': 3.106060606060606},\n",
       " '나원탁': {'택시운전사': 3.0,\n",
       "  '남한산성': 4.0,\n",
       "  '꾼': 3.0,\n",
       "  '범죄도시': 5.0,\n",
       "  '아이 캔 스피크': 3.5,\n",
       "  'avg': 3.1842105263157894},\n",
       " '소이현': {'남한산성': 4.5, '아이 캔 스피크': 1.0, '범죄도시': 4.0, 'avg': 3.182926829268293}}"
      ]
     },
     "execution_count": 172,
     "metadata": {},
     "output_type": "execute_result"
    }
   ],
   "source": [
    "sum = 0\n",
    "count = 0\n",
    "\n",
    "for name in ratings_expand:\n",
    "    for title in ratings_expand[name]:\n",
    "        sum += ratings_expand[name][title]\n",
    "        count += 1\n",
    "    \n",
    "    ratings_expand[name]['avg'] = sum/count\n",
    "    \n",
    "ratings_expand"
   ]
  },
  {
   "cell_type": "code",
   "execution_count": 174,
   "metadata": {},
   "outputs": [],
   "source": [
    "def get_KNNmeans_recommend(data, name, n=3, sim_function=sim_pearson):\n",
    "    \n",
    "    result = top_match(data, name, n, sim_function)\n",
    "    \n",
    "    score_dic = dict()\n",
    "    sim_dic = dict()\n",
    "    li = []\n",
    "    \n",
    "    for sim, user in result:\n",
    "        print(sim, user)\n",
    "        if sim<0: continue\n",
    "        for title in data[user]:\n",
    "            if title not in data[name]:\n",
    "                score = sim * (data[user][title]-data[user]['avg'])\n",
    "                score_dic.setdefault(title, 0)\n",
    "                score_dic[title] += score\n",
    "                \n",
    "                sim_dic.setdefault(title, 0)\n",
    "                sim_dic[title] += sim\n",
    "                \n",
    "    for title in score_dic:\n",
    "        score_dic[title] = data[name]['avg']+(score_dic[title]/sim_dic[title])\n",
    "        li.append((score_dic[title], title)) # (예측평점, 영화제목)\n",
    "        \n",
    "    li.sort(reverse=True)\n",
    "    \n",
    "    print('\\n** Recommendation')\n",
    "    for rating, score in enumerate(li):\n",
    "        print(rating+1, '등: ', score[1], ', ', score[0], '점')\n",
    "    \n",
    "    return li"
   ]
  },
  {
   "cell_type": "code",
   "execution_count": 175,
   "metadata": {},
   "outputs": [
    {
     "name": "stdout",
     "output_type": "stream",
     "text": [
      "1 등 :  (0.9228578895516366, '홍수환')\n",
      "2 등 :  (0.7790435921243095, '최홍만')\n",
      "3 등 :  (0.517441118049583, '나원탁')\n",
      "0.9228578895516366 홍수환\n",
      "0.7790435921243095 최홍만\n",
      "0.517441118049583 나원탁\n",
      "\n",
      "** Recommendation\n",
      "1 등:  꾼 ,  3.765320026911711 점\n",
      "2 등:  택시운전사 ,  3.0487901210241017 점\n",
      "3 등:  킹스맨:골든서클 ,  1.9561449029750133 점\n"
     ]
    },
    {
     "data": {
      "text/plain": [
       "[(3.765320026911711, '꾼'),\n",
       " (3.0487901210241017, '택시운전사'),\n",
       " (1.9561449029750133, '킹스맨:골든서클')]"
      ]
     },
     "execution_count": 175,
     "metadata": {},
     "output_type": "execute_result"
    }
   ],
   "source": [
    "get_KNNmeans_recommend(ratings_expand, '소이현')"
   ]
  },
  {
   "cell_type": "code",
   "execution_count": null,
   "metadata": {},
   "outputs": [],
   "source": []
  },
  {
   "cell_type": "code",
   "execution_count": null,
   "metadata": {},
   "outputs": [],
   "source": []
  },
  {
   "cell_type": "code",
   "execution_count": null,
   "metadata": {},
   "outputs": [],
   "source": []
  },
  {
   "cell_type": "code",
   "execution_count": null,
   "metadata": {},
   "outputs": [],
   "source": []
  },
  {
   "cell_type": "markdown",
   "metadata": {},
   "source": [
    "---"
   ]
  },
  {
   "cell_type": "markdown",
   "metadata": {},
   "source": [
    "# Reference"
   ]
  },
  {
   "cell_type": "markdown",
   "metadata": {},
   "source": [
    "* https://www.fun-coding.org/recommend_basic2.html"
   ]
  }
 ],
 "metadata": {
  "kernelspec": {
   "display_name": "Python 3",
   "language": "python",
   "name": "python3"
  },
  "language_info": {
   "codemirror_mode": {
    "name": "ipython",
    "version": 3
   },
   "file_extension": ".py",
   "mimetype": "text/x-python",
   "name": "python",
   "nbconvert_exporter": "python",
   "pygments_lexer": "ipython3",
   "version": "3.7.4"
  }
 },
 "nbformat": 4,
 "nbformat_minor": 2
}
