{
 "cells": [
  {
   "cell_type": "markdown",
   "metadata": {},
   "source": [
    "# < Basic Recommendation Algorithm >"
   ]
  },
  {
   "cell_type": "markdown",
   "metadata": {},
   "source": [
    "---"
   ]
  },
  {
   "cell_type": "markdown",
   "metadata": {},
   "source": [
    "## 1. Popularity, High Rated Based"
   ]
  },
  {
   "cell_type": "markdown",
   "metadata": {},
   "source": [
    "* 가장 단순함 => 평점이 높은 것을 추천\n",
    "* 모두에게 같은 item 추천"
   ]
  },
  {
   "cell_type": "code",
   "execution_count": 1,
   "metadata": {},
   "outputs": [],
   "source": [
    "ratings = {\n",
    "     'doky':{'Anne_with_an_E':5,'Strange_Things':3,'The_Escape':3},\n",
    "     'steve':{'Anne_with_an_E':5,'Strange_Things':1,'The_Escape':4},\n",
    "     'jamie':{'Anne_with_an_E':0,'Strange_Things':4,'The_Escape':5},\n",
    "     'bobby':{'Anne_with_an_E':2,'Strange_Things':1,'The_Escape':5}\n",
    "}"
   ]
  },
  {
   "cell_type": "code",
   "execution_count": 12,
   "metadata": {},
   "outputs": [
    {
     "data": {
      "text/plain": [
       "[('The_Escape', 4.25), ('Anne_with_an_E', 3.0), ('Strange_Things', 2.25)]"
      ]
     },
     "execution_count": 12,
     "metadata": {},
     "output_type": "execute_result"
    }
   ],
   "source": [
    "recmd_movielist = dict()\n",
    "\n",
    "# (A)\n",
    "for name in ratings:\n",
    "    for title in ratings[name]:\n",
    "        score = ratings[name][title]\n",
    "        \n",
    "        if title not in recmd_movielist:\n",
    "            recmd_movielist[title] = score\n",
    "        else:\n",
    "            recmd_movielist[title] += score\n",
    "\n",
    "#\n",
    "\n",
    "\n",
    "\n",
    "# (B)\n",
    "for recmd_movietitle in recmd_movielist:\n",
    "    recmd_movielist[recmd_movietitle] /= 4\n",
    "#\n",
    "\n",
    "\n",
    "\n",
    "# (C)\n",
    "from operator import itemgetter\n",
    "recmd_movielist = sorted(recmd_movielist.items(), reverse=True, key=itemgetter(1))\n",
    "#\n",
    "\n",
    "recmd_movielist"
   ]
  },
  {
   "cell_type": "markdown",
   "metadata": {},
   "source": [
    "> 네 사람이 같은 영화에 준 평점들을 각각 더한 다음`(A)`<br>4로 나눠서 각 영화가 받은 평점의 평균을 낸다`(B)`<br>그 평균으로 내림차순 정렬해서 추천 리스트를 만든다`(C)`"
   ]
  },
  {
   "cell_type": "markdown",
   "metadata": {},
   "source": [
    "---"
   ]
  },
  {
   "cell_type": "markdown",
   "metadata": {},
   "source": [
    "## 2. Collaborative Filtering"
   ]
  },
  {
   "cell_type": "markdown",
   "metadata": {},
   "source": [
    "* 사용자가 입력한 선호도(평점)를 사용하여 사용자-항목 선호도(평점) 행렬 계산\n",
    "* 그 행렬을 사용하여 사용자들 간의 유사도를 계산\n",
    "* 사용자들 간의 유사도를 바탕으로 모든 항목에 대해 예측 값을 계산하고, 높은 예측 값을 갖는 상위 N개의 추천 목록을 생성"
   ]
  },
  {
   "cell_type": "code",
   "execution_count": 13,
   "metadata": {},
   "outputs": [],
   "source": [
    "ratings = {\n",
    "     'doky':{'Anne_with_an_E':5,'Strange_Things':3,'The_Escape':3},\n",
    "     'steve':{'Anne_with_an_E':5,'Strange_Things':1,'The_Escape':4},\n",
    "     'jamie':{'Strange_Things':4,'The_Escape':5},\n",
    "     'bobby':{'Anne_with_an_E':2,'Strange_Things':1,'The_Escape':5}\n",
    "}"
   ]
  },
  {
   "cell_type": "code",
   "execution_count": 17,
   "metadata": {},
   "outputs": [],
   "source": [
    "import math\n",
    "\n",
    "def sim_w_dist(i, j):\n",
    "    return math.sqrt(pow(i,2), pow(j,2))"
   ]
  },
  {
   "cell_type": "markdown",
   "metadata": {},
   "source": [
    "> 피타고라스 공식을 통한 거리 계산으로 유사도 측정"
   ]
  },
  {
   "cell_type": "code",
   "execution_count": null,
   "metadata": {},
   "outputs": [],
   "source": []
  },
  {
   "cell_type": "code",
   "execution_count": null,
   "metadata": {},
   "outputs": [],
   "source": []
  },
  {
   "cell_type": "code",
   "execution_count": null,
   "metadata": {},
   "outputs": [],
   "source": []
  },
  {
   "cell_type": "markdown",
   "metadata": {},
   "source": [
    "---"
   ]
  },
  {
   "cell_type": "markdown",
   "metadata": {},
   "source": [
    "# Reference"
   ]
  },
  {
   "cell_type": "markdown",
   "metadata": {},
   "source": [
    "* https://www.fun-coding.org/recommend_basic2.html"
   ]
  }
 ],
 "metadata": {
  "kernelspec": {
   "display_name": "Python 3",
   "language": "python",
   "name": "python3"
  },
  "language_info": {
   "codemirror_mode": {
    "name": "ipython",
    "version": 3
   },
   "file_extension": ".py",
   "mimetype": "text/x-python",
   "name": "python",
   "nbconvert_exporter": "python",
   "pygments_lexer": "ipython3",
   "version": "3.7.4"
  }
 },
 "nbformat": 4,
 "nbformat_minor": 2
}
